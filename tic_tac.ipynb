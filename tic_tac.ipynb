{
 "cells": [
  {
   "cell_type": "code",
   "execution_count": null,
   "metadata": {},
   "outputs": [],
   "source": [
    "theboard={'high_l':'  ' , 'high_m':'  ' , 'high_n':'  ' , 'mid_l':'  ' , 'mid_m':'  ','mid_n':'  ','low_l':'  ' , 'low_m':'  ' , 'low_n':'  '}\n",
    "def print_bd(dicti):\n",
    "    print(dicti['high_l']+ '|' + dicti['high_m'] + '|' + dicti['high_n'])\n",
    "    print('---*---')\n",
    "    print(dicti['mid_l']+  '|' + dicti['mid_m']  +  '|'  + dicti['mid_n'])\n",
    "    print('---*---')\n",
    "    print(dicti['low_l']+  '|' + dicti['low_m']  +  '|'  + dicti['low_n'])\n",
    "    print('---*---')\n",
    "print_bd(theboard)\n",
    "print(\"HELLO!WELCOME TO THE TIC TAC TOE GAME \")\n",
    "i,j=input(\"Enter the name of both players! \").split(\"and\")\n",
    "print(\"Hello! {} and {}\".format(i,j))\n",
    "print(\"So the first player X is ::{} \".format(i))\n",
    "print(\"And Second player Y is ::{}\".format(j))\n",
    "print(\"NOW YOU BOTH CAN CONTINUE................ \")\n",
    "\n",
    "turn='X'\n",
    "list1=[]\n",
    "for i in range(8):\n",
    "    print(\"/////////////////////////////////////////\")\n",
    "    print_bd(theboard)\n",
    "    print(\"/////////////////////////////////////////\")\n",
    "    \n",
    "    print('Turn for '+turn)\n",
    "    print(\"which space?\")\n",
    "    t=input()\n",
    "    for j in list1:\n",
    "        if(t==j):\n",
    "            print(\"OOPS!Enter again(FILLED SPACE CANNOT BR FILLED AGAIN)\")\n",
    "            print()\n",
    "    list1.append(t)\n",
    "    theboard[t] = turn\n",
    "    if(turn== 'X'):\n",
    "        turn= 'O'\n",
    "        M='O'\n",
    "    else:\n",
    "        turn='X'\n",
    "        N='X'\n",
    "    if(i>3):\n",
    "        if(theboard['high_l']==theboard['high_m']==theboard['high_n']==M or theboard['mid_l']==theboard['mid_m']==theboard['mid_n']==M or theboard['low_l']==theboard['low_m']==theboard['low_n']==M or theboard['high_l']==theboard['mid_l']==theboard['low_l']==M or theboard['high_m']==theboard['mid_m']==theboard['low_m']==M or theboard['high_n']==theboard['mid_n']==theboard['low_n']==M or theboard['high_l']==theboard['mid_m']==theboard['low_n']==M or theboard['high_n']==theboard['mid_m']==theboard['low_l']==M):\n",
    "            print_bd(theboard)\n",
    "            print('WOW '+M+ ' has Won!')\n",
    "            break\n",
    "        elif(theboard['high_l']==theboard['high_m']==theboard['high_n']==N or theboard['mid_l']==theboard['mid_m']==theboard['mid_n']==N or theboard['low_l']==theboard['low_m']==theboard['low_n']==N or theboard['high_l']==theboard['mid_l']==theboard['low_l']==N or theboard['high_m']==theboard['mid_m']==theboard['low_m']==N or theboard['high_n']==theboard['mid_n']==theboard['low_n']==N or theboard['high_l']==theboard['mid_m']==theboard['low_n']==N or  theboard['high_n'] ==theboard['mid_m']==theboard['low_l']==N): \n",
    "             print_bd(theboard)\n",
    "             print('WOW '+N+ ' has Won!')\n",
    "             break\n",
    "        else:\n",
    "            print(\"OOPS ! NO ONE HAS WON\") \n",
    "    else:\n",
    "             print(\"!NO ONE HAS WON YET\")\n",
    "             \n"
   ]
  }
 ],
 "metadata": {
  "kernelspec": {
   "display_name": "Python 3",
   "language": "python",
   "name": "python3"
  },
  "language_info": {
   "codemirror_mode": {
    "name": "ipython",
    "version": 3
   },
   "file_extension": ".py",
   "mimetype": "text/x-python",
   "name": "python",
   "nbconvert_exporter": "python",
   "pygments_lexer": "ipython3",
   "version": "3.7.0"
  }
 },
 "nbformat": 4,
 "nbformat_minor": 2
}
